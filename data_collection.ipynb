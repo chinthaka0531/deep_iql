{
 "cells": [
  {
   "cell_type": "code",
   "execution_count": null,
   "metadata": {},
   "outputs": [],
   "source": [
    "import traci\n",
    "import time\n",
    "import numpy as np\n",
    "import traci.constants as tc\n",
    "#https://sumo.dlr.de/pydoc/traci._vehicle.html\n",
    "# traci.start([\"sumo-gui\", \"-c\", \"data_collection\\sumo_circuler_net\\demo.sumocfg\"])\n",
    "\n",
    "\n",
    "\n",
    "\n",
    "for i in range(1):\n",
    "    print(\">>>>>>>>>>>>>>>>>>>>>>>>>>>>>>>>>>>>>>>>>>>>>>>>>>>>>>>>>>>>>>>>>>>>>>>>>>>>>>>>>>>>>>>>>>>>>>>>>>>>>>>>>>>>>>>>>>>>>>>>>>>>>>>>>>>>>>\",i)\n",
    "    traci.start([\"sumo-gui\", \"-c\", \"data_collection\\sumo_circuler_net\\demo.sumocfg\"])\n",
    "    j = 0\n",
    "    while traci.simulation.getMinExpectedNumber() > 0:\n",
    "        traci.simulationStep()\n",
    "        time.sleep(0.02)\n",
    "        print(traci.vehicle.getIDList())\n",
    "        for vehicle_id in traci.vehicle.getIDList():\n",
    "            vehicle_pos = traci.vehicle.getPosition(vehicle_id)\n",
    "            vehicle_speed = traci.vehicle.getSpeed(vehicle_id)\n",
    "            vehicle_lane = traci.vehicle.getLaneID(vehicle_id)\n",
    "            # print(\"Vehicle ID: {}, Position: {}, Speed: {}, Lane: {}\".format(vehicle_id, vehicle_pos, vehicle_speed, vehicle_lane))\n",
    "    \n",
    "        traci.vehicle.addLegacy(f\"test_v{j}\", \"route_0\",pos=0, lane=0, speed=10, typeID=\"car0\")\n",
    "        max_speed = np.random.uniform(10, 20) # randomly generate a new maximum speed between 10 and 20 m/s\n",
    "        traci.vehicle.setMaxSpeed(f\"test_v{j}\", max_speed)\n",
    "\n",
    "        ic_speed_gain = np.random.uniform(0, 1) # randomly generate a new icSpeedGain between 0 and 1\n",
    "        traci.vehicle.setParameter(f\"test_v{j}\", tc.LCA_SPEEDGAIN, ic_speed_gain) # set the icSpeedGain of the new vehicle\n",
    "\n",
    "        j+=1\n",
    "\n",
    "    traci.close()\n"
   ]
  },
  {
   "cell_type": "code",
   "execution_count": 1,
   "metadata": {},
   "outputs": [
    {
     "name": "stdout",
     "output_type": "stream",
     "text": [
      "['car0', 'car1', 'car2', 'car3', 'ego']\n"
     ]
    }
   ],
   "source": [
    "import traci\n",
    "\n",
    "traci.start([\"sumo\", \"-c\", \"data_collection\\sumo_circuler_net\\circle_env.sumocfg\"])\n",
    "\n",
    "# Get a list of vehicle types\n",
    "vehicle_types = traci.vehicletype.getIDList()\n",
    "vehicle_types = [word for word in vehicle_types if not word.isupper()]\n",
    "\n",
    "print(list(vehicle_types))\n",
    "\n",
    "traci.close()"
   ]
  },
  {
   "cell_type": "code",
   "execution_count": 2,
   "metadata": {},
   "outputs": [],
   "source": [
    "vehicle_types.remove('ego')\n"
   ]
  },
  {
   "cell_type": "code",
   "execution_count": 5,
   "metadata": {},
   "outputs": [
    {
     "data": {
      "text/plain": [
       "['car0', 'car1', 'car2', 'car3']"
      ]
     },
     "execution_count": 5,
     "metadata": {},
     "output_type": "execute_result"
    }
   ],
   "source": [
    "vehicle_types"
   ]
  },
  {
   "cell_type": "code",
   "execution_count": null,
   "metadata": {},
   "outputs": [],
   "source": [
    "import numpy as np"
   ]
  },
  {
   "cell_type": "code",
   "execution_count": 10,
   "metadata": {},
   "outputs": [
    {
     "data": {
      "text/plain": [
       "'car1'"
      ]
     },
     "execution_count": 10,
     "metadata": {},
     "output_type": "execute_result"
    }
   ],
   "source": [
    "np.random.choice(vehicle_types)"
   ]
  },
  {
   "cell_type": "code",
   "execution_count": 18,
   "metadata": {},
   "outputs": [
    {
     "data": {
      "text/plain": [
       "15"
      ]
     },
     "execution_count": 18,
     "metadata": {},
     "output_type": "execute_result"
    }
   ],
   "source": [
    "np.random.randint(10,20)\n"
   ]
  },
  {
   "cell_type": "code",
   "execution_count": 1,
   "metadata": {},
   "outputs": [],
   "source": [
    "import traci\n",
    "\n",
    "traci.start([\"sumo\", \"-c\", \"data_collection\\sumo_circuler_net\\circle_env.sumocfg\"])\n",
    "\n",
    "\n",
    "max_speed = traci.vehicletype.getMaxSpeed('car1')\n"
   ]
  },
  {
   "cell_type": "code",
   "execution_count": 3,
   "metadata": {},
   "outputs": [
    {
     "data": {
      "text/plain": [
       "2.0"
      ]
     },
     "execution_count": 3,
     "metadata": {},
     "output_type": "execute_result"
    }
   ],
   "source": [
    "max_speed//5"
   ]
  },
  {
   "cell_type": "code",
   "execution_count": 5,
   "metadata": {},
   "outputs": [
    {
     "data": {
      "text/plain": [
       "13.413012028355647"
      ]
     },
     "execution_count": 5,
     "metadata": {},
     "output_type": "execute_result"
    }
   ],
   "source": [
    "import numpy as np\n",
    "np.random.uniform(0,50)"
   ]
  }
 ],
 "metadata": {
  "kernelspec": {
   "display_name": "iql",
   "language": "python",
   "name": "python3"
  },
  "language_info": {
   "codemirror_mode": {
    "name": "ipython",
    "version": 3
   },
   "file_extension": ".py",
   "mimetype": "text/x-python",
   "name": "python",
   "nbconvert_exporter": "python",
   "pygments_lexer": "ipython3",
   "version": "3.9.16"
  },
  "orig_nbformat": 4
 },
 "nbformat": 4,
 "nbformat_minor": 2
}
